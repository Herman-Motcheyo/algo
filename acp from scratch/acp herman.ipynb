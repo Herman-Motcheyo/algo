{
 "cells": [
  {
   "cell_type": "markdown",
   "metadata": {},
   "source": [
    "# IMPLEMENTATION DE L'ACP HERMAN"
   ]
  },
  {
   "cell_type": "code",
   "execution_count": null,
   "metadata": {},
   "outputs": [],
   "source": []
  },
  {
   "cell_type": "code",
   "execution_count": 1,
   "metadata": {},
   "outputs": [],
   "source": [
    "#importation des librairies\n",
    "\n",
    "import numpy as np\n",
    "import pandas as pd\n",
    "import matplotlib.pyplot as plt\n",
    "import math"
   ]
  },
  {
   "cell_type": "code",
   "execution_count": null,
   "metadata": {},
   "outputs": [],
   "source": []
  },
  {
   "cell_type": "code",
   "execution_count": 2,
   "metadata": {},
   "outputs": [],
   "source": [
    "datax = np.matrix('-2,3,-1  ; -1,1,0 ;2,-1,-1; 1 ,-3,2' )"
   ]
  },
  {
   "cell_type": "code",
   "execution_count": 3,
   "metadata": {},
   "outputs": [
    {
     "data": {
      "text/plain": [
       "matrix([[ 5, 18, 13,  9, 11,  4],\n",
       "        [18, 72, 48, 36, 48, 18],\n",
       "        [13, 48, 34, 24, 30, 11],\n",
       "        [ 9, 36, 24, 18, 24,  9],\n",
       "        [11, 48, 30, 24, 34, 13],\n",
       "        [ 4, 18, 11,  9, 13,  5]])"
      ]
     },
     "execution_count": 3,
     "metadata": {},
     "output_type": "execute_result"
    }
   ],
   "source": [
    "data = np.matrix('2,1  ; 6,6 ;5,3 ;3 ,3  ; 3,5 ; 1 ,2 ' )\n",
    "data\n",
    "np.dot(data , np.transpose(data))"
   ]
  },
  {
   "cell_type": "code",
   "execution_count": 4,
   "metadata": {},
   "outputs": [],
   "source": [
    "x = pd.DataFrame(datax)\n"
   ]
  },
  {
   "cell_type": "code",
   "execution_count": 5,
   "metadata": {},
   "outputs": [],
   "source": [
    "#cette fonction permet de centrer et reduire une variable\n",
    "\n",
    "def scoreb(X):\n",
    "    new = X - np.mean(X ,axis = 0)\n",
    "    return new/ np.std(new , axis = 0)\n"
   ]
  },
  {
   "cell_type": "code",
   "execution_count": 6,
   "metadata": {},
   "outputs": [],
   "source": [
    "#calcul de la moyenne\n",
    "\n",
    "def mean(column):\n",
    "    s = 0\n",
    "    for i in range(len(column)):\n",
    "        s = s+ column[i]\n",
    "    return s/len(column)"
   ]
  },
  {
   "cell_type": "code",
   "execution_count": null,
   "metadata": {},
   "outputs": [],
   "source": []
  },
  {
   "cell_type": "code",
   "execution_count": 7,
   "metadata": {},
   "outputs": [],
   "source": [
    "#calcul de la variance\n",
    "\n",
    "def variance(col):\n",
    "    s = 0\n",
    "    for i in range(len(col)):\n",
    "        s= s + math.pow(col[i] , 2)\n",
    "    p = s/len(col)\n",
    "    return p- math.pow(mean(col) , 2)\n",
    "    "
   ]
  },
  {
   "cell_type": "code",
   "execution_count": null,
   "metadata": {},
   "outputs": [],
   "source": []
  },
  {
   "cell_type": "code",
   "execution_count": 8,
   "metadata": {},
   "outputs": [],
   "source": [
    "#cette fonction permet de centrer et reduire une variable\n",
    "\n",
    "def score(col):\n",
    "    xbar = mean(col)\n",
    "    print(xbar)\n",
    "    sigma = math.sqrt(variance(col))\n",
    "    for i in range(len(col)):\n",
    "        col[i] = (col[i] -xbar)/sigma\n",
    "    return col\n"
   ]
  },
  {
   "cell_type": "code",
   "execution_count": null,
   "metadata": {},
   "outputs": [],
   "source": []
  },
  {
   "cell_type": "code",
   "execution_count": 11,
   "metadata": {},
   "outputs": [],
   "source": [
    "# cette fonction permet de calculer la matrice   des covariances variances \n",
    "\n",
    "def covariance_matrice( m ):\n",
    "    ponderation = float(1 / len(m)) # je recupere le facteur de ponderation\n",
    "    p = np.dot(np.transpose(m) , m)\n",
    "    return ponderation * p"
   ]
  },
  {
   "cell_type": "code",
   "execution_count": null,
   "metadata": {},
   "outputs": [],
   "source": []
  },
  {
   "cell_type": "code",
   "execution_count": 12,
   "metadata": {},
   "outputs": [],
   "source": [
    "#calcul la covariance entre 2 variables\n",
    "\n",
    "def covariance(x,y):\n",
    "    summ = 0\n",
    "    if(len(x) != len(y)):\n",
    "        raise ValueError(\" x et y doivent avoir la meme taille\")\n",
    "        \n",
    "    n = len(x)\n",
    "    for i in range(n):\n",
    "        summ = summ + (x[i]* y[i]) \n",
    "    s = float(summ/n)\n",
    "    corr = s - (mean(x)* mean(y))\n",
    "    return corr"
   ]
  },
  {
   "cell_type": "code",
   "execution_count": 13,
   "metadata": {},
   "outputs": [],
   "source": [
    "#calcul de la correlatiob entre 2 variables\n",
    "\n",
    "def pearson(x,y):\n",
    "    if(len(x) != len(y)):\n",
    "        raise ValueError(\" x et y doivent avoir la meme taille\")\n",
    "    sigmaX = math.sqrt(variance(x))\n",
    "    sigmaY = math.sqrt(variance(y))\n",
    "    return covariance(x,y)/(sigmaX *sigmaY)\n",
    "    "
   ]
  },
  {
   "cell_type": "code",
   "execution_count": null,
   "metadata": {},
   "outputs": [],
   "source": []
  },
  {
   "cell_type": "code",
   "execution_count": 14,
   "metadata": {},
   "outputs": [],
   "source": [
    "def visualise_corr(data ,X , dim):\n",
    "    if dim==2 :\n",
    "        x,y = splitData(data ,2)\n",
    "        theta = np.linspace(0,2* np.pi , 360)\n",
    "        radius = 1\n",
    "        a = radius  *  np.cos(theta)\n",
    "        b = radius * np.sin(theta)\n",
    "    \n",
    "    \n",
    "        figure , axes = plt.subplots(figsize=(12,12))\n",
    "        axes.plot(a,b)\n",
    "        plt.scatter(x,y)\n",
    "        plt.vlines(x = 0 ,ymin = -1 ,ymax = 1)\n",
    "        plt.hlines(y = 0 ,xmin = -1 ,xmax = 1)\n",
    "        for i in range((X.shape)[1]):\n",
    "            plt.text(x[i] , y[i],\" I {}\".format(X.columns[i]))\n",
    "        plt.scatter(x ,y  ,c=\"#8a2be2\")\n",
    "        plt.show()\n",
    "    elif dim == 3 :\n",
    "        x,y,z = splitData(data  , 3)\n",
    "        fig = plt.figure(figsize = (10 ,7))\n",
    "        axes = plt.axes(projection = '3d')\n",
    "        axes.scatter3D(x,y,z , color = \"red\")\n",
    "        axes.set_xlabel(\"composante 1\")\n",
    "        axes.set_ylabel(\"composante 2\")\n",
    "        axes.set_zlabel(\"composante 3\")\n",
    "        plt.show()\n",
    "    \n"
   ]
  },
  {
   "cell_type": "code",
   "execution_count": 15,
   "metadata": {},
   "outputs": [],
   "source": [
    "def visualise_1(data , dimension):\n",
    "            \n",
    "    if dimension ==2 :\n",
    "        x = data[0].tolist()\n",
    "        y = data[1].tolist()\n",
    "        pc = pd.DataFrame(x)\n",
    "        px  = pd.DataFrame(y)\n",
    "        p = pd.concat([pc,px ], axis  =1 , join = \"inner\")\n",
    "        p.columns=[ \"PCA 1\" , \"PCA 2\"]\n",
    "        print(p)\n",
    "        \n",
    "        for i in range(len(x)):\n",
    "            plt.text(x[i] , y[i],\" I {}\".format(i))\n",
    "        plt.figure(1,figsize=(19,19))\n",
    "        plt.scatter(x ,y  ,c=\"#8a2be2\")\n",
    "        plt.xlabel(\"PCA 1\")\n",
    "        plt.ylabel(\"PCA 2\")\n",
    "        plt.show()\n",
    "    else : \n",
    "        x = data[0].tolist()\n",
    "        y = data[1].tolist()\n",
    "        z = data[2].tolist()\n",
    "        pc = pd.DataFrame(x)\n",
    "        px  = pd.DataFrame(y)\n",
    "        pz  = pd.DataFrame(z)\n",
    "        p = pd.concat([pc,px,pz ], axis  =1 , join = \"inner\")\n",
    "        p.columns=[ \"PCA 1\" , \"PCA 2\" , \"PCA 3\"]\n",
    "        print(p)\n"
   ]
  },
  {
   "cell_type": "code",
   "execution_count": null,
   "metadata": {},
   "outputs": [],
   "source": []
  },
  {
   "cell_type": "code",
   "execution_count": 16,
   "metadata": {},
   "outputs": [],
   "source": [
    "def splitData(data , dim):\n",
    "    x = []\n",
    "    y = []\n",
    "    z = []\n",
    "    if dim == 2:\n",
    "        for i in range(len(data)):\n",
    "            x.append(data[i][0])\n",
    "            y.append(data[i][1])\n",
    "        return x ,y\n",
    "    else : \n",
    "        for i in range(len(data)):\n",
    "            x.append(data[i][0])\n",
    "            y.append(data[i][1])\n",
    "            z.append(data[i][2])\n",
    "        return x ,y ,z\n",
    "        \n",
    "    "
   ]
  },
  {
   "cell_type": "code",
   "execution_count": 17,
   "metadata": {},
   "outputs": [],
   "source": [
    "def acp (X ,  s):\n",
    "    matrice_Ini  = X\n",
    "    \n",
    "    if(matrice_Ini.shape[1]==1 and matrice_Ini.shape[0] ==1):\n",
    "        raise ValueError(\"la matrice doit etre de taille different de (1 , 1)\")\n",
    "    print(\"la matrice initiale est :\")\n",
    "\n",
    "    print(X)\n",
    "    m_c_r = scoreb(X)\n",
    "    print(\"la matrice centree reduite est : \")\n",
    "    print(m_c_r)\n",
    "    \n",
    "    m_c = covariance_matrice(m_c_r)\n",
    "    \n",
    "    print(\" LA matrice des Variances Covariances \")\n",
    "    print(m_c)\n",
    "    val_p , Mat_vect = np.linalg.eig(m_c)\n",
    "    \n",
    "    print(\"\\t\\t Les valeurs propres sont : \\n\")\n",
    "    print(val_p)\n",
    "    \n",
    "    print(\"\\t\\t La matrice associées aux  vecteurs propres sont : \\n\")\n",
    "    print(Mat_vect)\n",
    "    \n",
    "    #on tri les valeurs propres\n",
    "    ind = val_p.argsort()[::-1]\n",
    "    val_p = val_p[ind]\n",
    "    Mat_vect = Mat_vect[:,ind]\n",
    "    \n",
    "    # on verifit le taux de conservation\n",
    "    if(s >4 or s <= 0):\n",
    "        raise ValueError(\" erreur s  est compris entre 1 et 3 \")\n",
    "    \n",
    "    taux_inertie = 0\n",
    "    b= 0\n",
    "\n",
    "    for i in range(0,s):\n",
    "        taux_inertie = val_p[i]+taux_inertie\n",
    "        b = taux_inertie/sum(val_p)\n",
    "    \n",
    "    print(\"\\n Le taux de conservation des données est de {} % \\n\".format(b*100))\n",
    "    \n",
    "    A = []\n",
    "    #on verifit les differentes  valeur de s\n",
    "    if(s == 1):\n",
    "        print(\" S = {} AJustement par une droite\".format(s))\n",
    "        A.append(np.dot(m_c_r , Mat_vect[:,0]))\n",
    "        print(\" LA composante principale pour lambda max est  :\")\n",
    "        print(pd.DataFrame(A[0]))\n",
    "    \n",
    "    elif(s==2 ):\n",
    "        \n",
    "        print(\"Ajustement des nuages des individus dans la plan\")\n",
    "        #calcul des composantes principales\n",
    "        composante=[]\n",
    "        for i in range(0,s):\n",
    "            composante.append(np.dot(m_c_r,Mat_vect[:,i]))\n",
    "            \n",
    "          #calcul des nouveaux individus  \n",
    "        data_cor = [] \n",
    "        for i in range(m_c_r.shape[1]):\n",
    "            pt  = list()\n",
    "            for k in range(0,s):\n",
    "                pt.append(pearson(m_c_r[m_c_r.columns[i]] ,composante[k]))\n",
    "            data_cor.append(pt)\n",
    "\n",
    "            \n",
    "        #visualisation du plan factoriel\n",
    "        visualise_1(composante , s)\n",
    "        \n",
    "        #visualisation des individus dans le nouveau plan factoriel\n",
    "        a = pd.DataFrame(data_cor)\n",
    "        a.columns = [\"R(MCT(i) ,PCA1)\" ,\"R(MCT(i) ,PCA2)\"]\n",
    "        print(\"Matrice des correlations entre les indiviudes et les composantes principales\")\n",
    "        print(a)\n",
    "        visualise_corr(data_cor ,X ,2)\n",
    "        \n",
    "    elif(s== 3):\n",
    "        print(\"Ajustement du nuage des individus dans l'espace a 3 dimensions\")\n",
    "        #calcul des composantes principales\n",
    "        composante=[]\n",
    "        for i in range(0,s):\n",
    "            composante.append(np.dot(m_c_r,Mat_vect[:,i]))\n",
    "        \n",
    "        print(\"Représentation des Composantes Principales\")\n",
    "        visualise_1(composante , s)\n",
    "\n",
    "        print()\n",
    "          #calcul des nouveaux individus  \n",
    "        data_cor = [] \n",
    "        for i in range(m_c_r.shape[1]):\n",
    "            pt  = list()\n",
    "            for k in range(0,s):\n",
    "                pt.append(pearson(m_c_r[m_c_r.columns[i]] ,composante[k]))\n",
    "            data_cor.append(pt)\n",
    "        \n",
    "        visualise_corr(data_cor ,X ,3)\n",
    "       # print(pd.DataFrame(data_cor))\n",
    "\n",
    "    else :\n",
    "        print(\" s = {} donc on a une conservationn de tableau initiale\" .format(s))\n",
    "        print(X)\n",
    "    \n",
    "    #Representation des individus dans l'espace initial\n",
    "    "
   ]
  },
  {
   "cell_type": "code",
   "execution_count": null,
   "metadata": {},
   "outputs": [],
   "source": []
  },
  {
   "cell_type": "code",
   "execution_count": null,
   "metadata": {},
   "outputs": [],
   "source": []
  },
  {
   "cell_type": "code",
   "execution_count": 20,
   "metadata": {},
   "outputs": [
    {
     "name": "stdout",
     "output_type": "stream",
     "text": [
      "Bienvenue sur la simulation de l ACP\n",
      "entrer le nombre de ligne5\n",
      "entrer le nombre de colonne3\n",
      "Entrer l'element à la position [1,1]2\n",
      "Entrer l'element à la position [1,2]2\n",
      "Entrer l'element à la position [1,3]3\n",
      "Entrer l'element à la position [2,1]3\n",
      "Entrer l'element à la position [2,2]1\n",
      "Entrer l'element à la position [2,3]2\n",
      "Entrer l'element à la position [3,1]1\n",
      "Entrer l'element à la position [3,2]0\n",
      "Entrer l'element à la position [3,3]3\n",
      "Entrer l'element à la position [4,1]2\n",
      "Entrer l'element à la position [4,2]1\n",
      "Entrer l'element à la position [4,3]4\n",
      "Entrer l'element à la position [5,1]2\n",
      "Entrer l'element à la position [5,2]1\n",
      "Entrer l'element à la position [5,3]3\n",
      "Entrer le taux de conservation des données\n",
      "None2\n",
      "2.0 2.0 3.0 \n",
      "3.0 1.0 2.0 \n",
      "1.0 0.0 3.0 \n",
      "2.0 1.0 4.0 \n",
      "2.0 1.0 3.0 \n",
      "la matrice initiale est :\n",
      "     0    1    2\n",
      "0  2.0  2.0  3.0\n",
      "1  3.0  1.0  2.0\n",
      "2  1.0  0.0  3.0\n",
      "3  2.0  1.0  4.0\n",
      "4  2.0  1.0  3.0\n",
      "la matrice centree reduite est : \n",
      "          0         1         2\n",
      "0  0.000000  1.581139  0.000000\n",
      "1  1.581139  0.000000 -1.581139\n",
      "2 -1.581139 -1.581139  0.000000\n",
      "3  0.000000  0.000000  1.581139\n",
      "4  0.000000  0.000000  0.000000\n",
      " LA matrice des Variances Covariances \n",
      "[[ 1.   0.5 -0.5]\n",
      " [ 0.5  1.   0. ]\n",
      " [-0.5  0.   1. ]]\n",
      "\t\t Les valeurs propres sont : \n",
      "\n",
      "[0.29289322 1.70710678 1.        ]\n",
      "\t\t La matrice associées aux  vecteurs propres sont : \n",
      "\n",
      "[[ 7.07106781e-01 -7.07106781e-01 -1.57009246e-16]\n",
      " [-5.00000000e-01 -5.00000000e-01  7.07106781e-01]\n",
      " [ 5.00000000e-01  5.00000000e-01  7.07106781e-01]]\n",
      "\n",
      " Le taux de conservation des données est de 90.23689270621826 % \n",
      "\n",
      "Ajustement des nuages des individus dans la plan\n",
      "      PCA 1     PCA 2\n",
      "0 -0.790569  1.118034\n",
      "1 -1.908603 -1.118034\n",
      "2  1.908603 -1.118034\n",
      "3  0.790569  1.118034\n",
      "4  0.000000  0.000000\n"
     ]
    },
    {
     "data": {
      "image/png": "[encoded data removed]",
      "text/plain": [
       "<Figure size 432x288 with 1 Axes>"
      ]
     },
     "metadata": {
      "needs_background": "light"
     },
     "output_type": "display_data"
    },
    {
     "name": "stdout",
     "output_type": "stream",
     "text": [
      "Matrice des correlations entre les indiviudes et les composantes principales\n",
      "   R(MCT(i) ,PCA1)  R(MCT(i) ,PCA2)\n",
      "0        -0.923880    -4.440892e-17\n",
      "1        -0.653281     7.071068e-01\n",
      "2         0.653281     7.071068e-01\n"
     ]
    },
    {
     "data": {
      "image/png": "[encoded data removed]",
      "text/plain": [
       "<Figure size 864x864 with 1 Axes>"
      ]
     },
     "metadata": {
      "needs_background": "light"
     },
     "output_type": "display_data"
    }
   ],
   "source": [
    "def takeInputUser():\n",
    "    print(\"Bienvenue sur la simulation de l ACP\")\n",
    "    nbLigne = int(input(\"entrer le nombre de ligne\"))\n",
    "    nbColonne = int(input(\"entrer le nombre de colonne\"))\n",
    "    mat = []\n",
    "    len(mat)\n",
    "    for i in range(0,nbLigne):\n",
    "        a = []\n",
    "        for j in range(0, nbColonne):\n",
    "            a.append(float(input(\"Entrer l'element à la position [{i},{j}]\".format(i = i+1 , j=j+1))))\n",
    "        mat.append(a)\n",
    "    taux = 0\n",
    "    try:\n",
    "        taux= int(input(print(\"Entrer le taux de conservation des données\" )))\n",
    "    except:\n",
    "        print(\"la valeur doit etre positive ou etre un nombre\")\n",
    "    \n",
    "    for i in range(0,nbLigne):\n",
    "        for j in range(0, nbColonne):\n",
    "            print(mat[i][j], end=\" \")\n",
    "        print()\n",
    "    p=pd.DataFrame(mat)\n",
    "    acp(p,taux)\n",
    "takeInputUser()"
   ]
  },
  {
   "cell_type": "code",
   "execution_count": 19,
   "metadata": {},
   "outputs": [
    {
     "name": "stdout",
     "output_type": "stream",
     "text": [
      "la matrice initiale est :\n",
      "   0  1  2\n",
      "0 -2  3 -1\n",
      "1 -1  1  0\n",
      "2  2 -1 -1\n",
      "3  1 -3  2\n",
      "la matrice centree reduite est : \n",
      "          0         1         2\n",
      "0 -1.264911  1.341641 -0.816497\n",
      "1 -0.632456  0.447214  0.000000\n",
      "2  1.264911 -0.447214 -0.816497\n",
      "3  0.632456 -1.341641  1.632993\n",
      " LA matrice des Variances Covariances \n",
      "[[ 1.         -0.84852814  0.25819889]\n",
      " [-0.84852814  1.         -0.73029674]\n",
      " [ 0.25819889 -0.73029674  1.        ]]\n",
      "\t\t Les valeurs propres sont : \n",
      "\n",
      "[2.25498344e+00 7.45016556e-01 1.01041396e-16]\n",
      "\t\t La matrice associées aux  vecteurs propres sont : \n",
      "\n",
      "[[-0.5531024   0.64521311  0.52704628]\n",
      " [ 0.66556564 -0.03829921  0.74535599]\n",
      " [-0.50109891 -0.76304208  0.40824829]]\n",
      "\n",
      " Le taux de conservation des données est de 100.0 % \n",
      "\n",
      "Ajustement des nuages des individus dans la plan\n",
      "      PCA 1     PCA 2\n",
      "0  2.001721 -0.244500\n",
      "1  0.647463 -0.425197\n",
      "2 -0.588130  1.456286\n",
      "3 -2.061054 -0.786590\n"
     ]
    },
    {
     "data": {
      "image/png": "[encoded data removed]",
      "text/plain": [
       "<Figure size 432x288 with 1 Axes>"
      ]
     },
     "metadata": {
      "needs_background": "light"
     },
     "output_type": "display_data"
    },
    {
     "name": "stdout",
     "output_type": "stream",
     "text": [
      "Matrice des correlations entre les indiviudes et les composantes principales\n",
      "   R(MCT(i) ,PCA1)  R(MCT(i) ,PCA2)\n",
      "0        -0.830572         0.556911\n",
      "1         0.999453        -0.033058\n",
      "2        -0.752480        -0.658615\n"
     ]
    },
    {
     "data": {
      "image/png": "[encoded data removed]",
      "text/plain": [
       "<Figure size 864x864 with 1 Axes>"
      ]
     },
     "metadata": {
      "needs_background": "light"
     },
     "output_type": "display_data"
    }
   ],
   "source": [
    "#d = pd.read_csv(\"data23.csv\" ,header=None, sep = \",\" , names = [\"Poids\",\"age\" , \"notes\"])\n",
    "acp(x,2)"
   ]
  },
  {
   "cell_type": "code",
   "execution_count": null,
   "metadata": {},
   "outputs": [],
   "source": []
  },
  {
   "cell_type": "code",
   "execution_count": null,
   "metadata": {},
   "outputs": [],
   "source": []
  },
  {
   "cell_type": "code",
   "execution_count": null,
   "metadata": {},
   "outputs": [],
   "source": []
  },
  {
   "cell_type": "code",
   "execution_count": null,
   "metadata": {},
   "outputs": [],
   "source": []
  }
 ],
 "metadata": {
  "interpreter": {
   "hash": "31f2aee4e71d21fbe5cf8b01ff0e069b9275f58929596ceb00d14d90e3e16cd6"
  },
  "kernelspec": {
   "display_name": "Python 3 (ipykernel)",
   "language": "python",
   "name": "python3"
  },
  "language_info": {
   "codemirror_mode": {
    "name": "ipython",
    "version": 3
   },
   "file_extension": ".py",
   "mimetype": "text/x-python",
   "name": "python",
   "nbconvert_exporter": "python",
   "pygments_lexer": "ipython3",
   "version": "3.8.5"
  }
 },
 "nbformat": 4,
 "nbformat_minor": 4
}
