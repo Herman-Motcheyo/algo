{
 "cells": [
  {
   "cell_type": "code",
   "execution_count": 1,
   "metadata": {},
   "outputs": [],
   "source": [
    "import numpy as np\n",
    "import matplotlib.pyplot as plt"
   ]
  },
  {
   "cell_type": "code",
   "execution_count": null,
   "metadata": {},
   "outputs": [],
   "source": []
  },
  {
   "cell_type": "code",
   "execution_count": null,
   "metadata": {},
   "outputs": [],
   "source": []
  },
  {
   "cell_type": "code",
   "execution_count": 2,
   "metadata": {},
   "outputs": [],
   "source": [
    "def gradient_descent(gradient , start , learn_rate , n_iter):\n",
    "    vector  = start\n",
    "    for _ in range(n_iter):\n",
    "        diff = - learn_rate*gradient(vector)\n",
    "        vector +=  diff\n",
    "    return vector"
   ]
  },
  {
   "cell_type": "code",
   "execution_count": 17,
   "metadata": {},
   "outputs": [],
   "source": [
    "# avec la precision epcelon\n",
    "\n",
    "def gradient_descentT(gradient , start , learn_rate , n_iter=50 , tolerance = 1e-06):\n",
    "    vector  = start\n",
    "    k =10\n",
    "    x = [];y=[]\n",
    "    for _ in range(n_iter):\n",
    "        x.append(vector)\n",
    "        diff = - learn_rate*gradient(vector)\n",
    "        y.append((k-1)*(k-1))\n",
    "        if(np.all(np.abs(diff)  <= tolerance)):\n",
    "            break\n",
    "        vector +=  diff\n",
    "    return vector , x,y\n"
   ]
  },
  {
   "cell_type": "code",
   "execution_count": null,
   "metadata": {},
   "outputs": [],
   "source": []
  },
  {
   "cell_type": "code",
   "execution_count": 18,
   "metadata": {},
   "outputs": [],
   "source": [
    "# avec la precision epcelon\n",
    "\n",
    "def gradient_descent(gradient , start , learn_rate , n_iter=50 , tolerance = 1e-06):\n",
    "    vector  = start\n",
    "    x=[]\n",
    "    for _ in range(n_iter):\n",
    "        x.append(vector)\n",
    "        diff = - learn_rate*gradient(vector)\n",
    "        if(np.all(np.abs(diff)  <= tolerance)):\n",
    "            break\n",
    "        vector +=  diff\n",
    "    return vector\n"
   ]
  },
  {
   "cell_type": "markdown",
   "metadata": {},
   "source": [
    "# exemple sur la fonction f(x) = x^2"
   ]
  },
  {
   "cell_type": "code",
   "execution_count": 19,
   "metadata": {},
   "outputs": [],
   "source": [
    "#plus le pas est trop petit plus la fonction a tendance à stagnier"
   ]
  },
  {
   "cell_type": "code",
   "execution_count": 22,
   "metadata": {},
   "outputs": [
    {
     "ename": "AttributeError",
     "evalue": "'numpy.ndarray' object has no attribute 'append'",
     "output_type": "error",
     "traceback": [
      "\u001b[0;31m---------------------------------------------------------------------------\u001b[0m",
      "\u001b[0;31mAttributeError\u001b[0m                            Traceback (most recent call last)",
      "\u001b[0;32m/tmp/ipykernel_29563/283815128.py\u001b[0m in \u001b[0;36m<module>\u001b[0;34m\u001b[0m\n\u001b[0;32m----> 1\u001b[0;31m \u001b[0mgradient_descent\u001b[0m\u001b[0;34m(\u001b[0m\u001b[0mgradient\u001b[0m \u001b[0;34m=\u001b[0m \u001b[0;32mlambda\u001b[0m \u001b[0mv\u001b[0m \u001b[0;34m:\u001b[0m \u001b[0;36m2\u001b[0m\u001b[0;34m*\u001b[0m\u001b[0mv\u001b[0m \u001b[0;34m,\u001b[0m \u001b[0mstart\u001b[0m \u001b[0;34m=\u001b[0m\u001b[0;36m10\u001b[0m \u001b[0;34m,\u001b[0m \u001b[0mlearn_rate\u001b[0m \u001b[0;34m=\u001b[0m\u001b[0;36m0.25\u001b[0m\u001b[0;34m)\u001b[0m\u001b[0;34m\u001b[0m\u001b[0;34m\u001b[0m\u001b[0m\n\u001b[0m",
      "\u001b[0;32m/tmp/ipykernel_29563/1881703441.py\u001b[0m in \u001b[0;36mgradient_descent\u001b[0;34m(gradient, start, learn_rate, n_iter, tolerance)\u001b[0m\n\u001b[1;32m      4\u001b[0m     \u001b[0mvector\u001b[0m  \u001b[0;34m=\u001b[0m \u001b[0mstart\u001b[0m\u001b[0;34m\u001b[0m\u001b[0;34m\u001b[0m\u001b[0m\n\u001b[1;32m      5\u001b[0m     \u001b[0;32mfor\u001b[0m \u001b[0m_\u001b[0m \u001b[0;32min\u001b[0m \u001b[0mrange\u001b[0m\u001b[0;34m(\u001b[0m\u001b[0mn_iter\u001b[0m\u001b[0;34m)\u001b[0m\u001b[0;34m:\u001b[0m\u001b[0;34m\u001b[0m\u001b[0;34m\u001b[0m\u001b[0m\n\u001b[0;32m----> 6\u001b[0;31m         \u001b[0mx\u001b[0m\u001b[0;34m.\u001b[0m\u001b[0mappend\u001b[0m\u001b[0;34m(\u001b[0m\u001b[0mvector\u001b[0m\u001b[0;34m)\u001b[0m\u001b[0;34m\u001b[0m\u001b[0;34m\u001b[0m\u001b[0m\n\u001b[0m\u001b[1;32m      7\u001b[0m         \u001b[0mdiff\u001b[0m \u001b[0;34m=\u001b[0m \u001b[0;34m-\u001b[0m \u001b[0mlearn_rate\u001b[0m\u001b[0;34m*\u001b[0m\u001b[0mgradient\u001b[0m\u001b[0;34m(\u001b[0m\u001b[0mvector\u001b[0m\u001b[0;34m)\u001b[0m\u001b[0;34m\u001b[0m\u001b[0;34m\u001b[0m\u001b[0m\n\u001b[1;32m      8\u001b[0m         \u001b[0;32mif\u001b[0m\u001b[0;34m(\u001b[0m\u001b[0mnp\u001b[0m\u001b[0;34m.\u001b[0m\u001b[0mall\u001b[0m\u001b[0;34m(\u001b[0m\u001b[0mnp\u001b[0m\u001b[0;34m.\u001b[0m\u001b[0mabs\u001b[0m\u001b[0;34m(\u001b[0m\u001b[0mdiff\u001b[0m\u001b[0;34m)\u001b[0m  \u001b[0;34m<=\u001b[0m \u001b[0mtolerance\u001b[0m\u001b[0;34m)\u001b[0m\u001b[0;34m)\u001b[0m\u001b[0;34m:\u001b[0m\u001b[0;34m\u001b[0m\u001b[0;34m\u001b[0m\u001b[0m\n",
      "\u001b[0;31mAttributeError\u001b[0m: 'numpy.ndarray' object has no attribute 'append'"
     ]
    }
   ],
   "source": [
    "gradient_descent(gradient = lambda v : 2*v , start =10 , learn_rate =0.25)"
   ]
  },
  {
   "cell_type": "code",
   "execution_count": 23,
   "metadata": {},
   "outputs": [
    {
     "data": {
      "text/plain": [
       "[<matplotlib.lines.Line2D at 0x7faffee44700>]"
      ]
     },
     "execution_count": 23,
     "metadata": {},
     "output_type": "execute_result"
    },
    {
     "data": {
      "image/png": "[encoded data removed]",
      "text/plain": [
       "<Figure size 432x288 with 1 Axes>"
      ]
     },
     "metadata": {
      "needs_background": "light"
     },
     "output_type": "display_data"
    }
   ],
   "source": [
    "y = [i*i for i in range(-10 ,10,1) ]  \n",
    "x =  [i for i in range(-10 ,10,1) ]   \n",
    "plt.plot(x,y)\n"
   ]
  },
  {
   "cell_type": "markdown",
   "metadata": {},
   "source": [
    "# Exemple de la fonction v-log(v)"
   ]
  },
  {
   "cell_type": "code",
   "execution_count": 24,
   "metadata": {},
   "outputs": [
    {
     "data": {
      "text/plain": [
       "1.0000010315646781"
      ]
     },
     "execution_count": 24,
     "metadata": {},
     "output_type": "execute_result"
    }
   ],
   "source": [
    "gradient_descent(lambda v : 1 -1/v , start = 8 , learn_rate = 0.5)"
   ]
  },
  {
   "cell_type": "markdown",
   "metadata": {},
   "source": [
    "# Exemple de v^2 + v^4"
   ]
  },
  {
   "cell_type": "code",
   "execution_count": 25,
   "metadata": {},
   "outputs": [
    {
     "ename": "TypeError",
     "evalue": "SGD() missing 2 required positional arguments: 'x' and 'y'",
     "output_type": "error",
     "traceback": [
      "\u001b[0;31m---------------------------------------------------------------------------\u001b[0m",
      "\u001b[0;31mTypeError\u001b[0m                                 Traceback (most recent call last)",
      "\u001b[0;32m/tmp/ipykernel_29563/836537922.py\u001b[0m in \u001b[0;36m<module>\u001b[0;34m\u001b[0m\n\u001b[0;32m----> 1\u001b[0;31m SGD(gradient=lambda v: np.array([2 * v[0], 4 * v[1]**3])\n\u001b[0m\u001b[1;32m      2\u001b[0m                  ,start=np.array([1.0, 1.0]), learn_rate=0.2, tolerance=1e-08)\n",
      "\u001b[0;31mTypeError\u001b[0m: SGD() missing 2 required positional arguments: 'x' and 'y'"
     ]
    }
   ],
   "source": [
    "SGD(gradient=lambda v: np.array([2 * v[0], 4 * v[1]**3])\n",
    "                 ,start=np.array([1.0, 1.0]), learn_rate=0.2, tolerance=1e-08)"
   ]
  },
  {
   "cell_type": "code",
   "execution_count": null,
   "metadata": {},
   "outputs": [],
   "source": []
  },
  {
   "cell_type": "markdown",
   "metadata": {},
   "source": [
    "# regression lineaire simple\n",
    "\n",
    "# y  =  b0 + b1*x"
   ]
  },
  {
   "cell_type": "code",
   "execution_count": 10,
   "metadata": {},
   "outputs": [],
   "source": [
    "def ssr_gradient(x, y, b):\n",
    "    res = b[0] + b[1] * x - y\n",
    "    return res.mean(), (res * x).mean()  # .mean() is a method of np.ndarra"
   ]
  },
  {
   "cell_type": "code",
   "execution_count": 11,
   "metadata": {},
   "outputs": [],
   "source": [
    "def gradient_descent( gradient, x, y, start, learn_rate=0.1, n_iter=50, tolerance=1e-06 ):\n",
    "    vector  = start\n",
    "    for _ in range(n_iter):\n",
    "        diff = - learn_rate * np.array(gradient(x,y,vector))\n",
    "        if(np.all(np.abs(diff)  <= tolerance)):\n",
    "            break\n",
    "        vector += diff\n",
    "    return vector"
   ]
  },
  {
   "cell_type": "code",
   "execution_count": 12,
   "metadata": {},
   "outputs": [
    {
     "name": "stdout",
     "output_type": "stream",
     "text": [
      "[5.62822349 0.54012867]\n"
     ]
    },
    {
     "data": {
      "image/png": "[encoded data removed]",
      "text/plain": [
       "<Figure size 432x288 with 1 Axes>"
      ]
     },
     "metadata": {
      "needs_background": "light"
     },
     "output_type": "display_data"
    }
   ],
   "source": [
    "x = np.array([5, 15, 25, 35, 45, 55])\n",
    "y = np.array([5, 20, 14, 32, 22, 38])\n",
    "b = gradient_descent( ssr_gradient, x, y, start=[0.5, 0.5], learn_rate=0.0008,n_iter=100_000 )\n",
    "print(b)\n",
    "\n",
    "def linear_regree(x ,y):\n",
    "    b = gradient_descent( ssr_gradient, x, y, start=[0.5, 0.5], learn_rate=0.0008,n_iter=100000 )\n",
    "    e = []\n",
    "    for i in range(len(x)):\n",
    "        e.append(b[0]+ b[1]* x[i])\n",
    "    plt.plot(x,e)\n",
    "\n",
    "plt.scatter(x,y)\n",
    "linear_regree(x,y)"
   ]
  },
  {
   "cell_type": "code",
   "execution_count": 13,
   "metadata": {},
   "outputs": [],
   "source": [
    "# on rend le code de la descente de gradiant plus robuste \n",
    "\n",
    "def gradient_descent( gradient, x, y, start, learn_rate=0.1, n_iter=50, tolerance=1e-06  , dtype = \"float64\"):\n",
    "    #on verifit si la descente de gradiant a ete appele\n",
    "    \n",
    "    if  not callable(gradient):\n",
    "        raise TypeError(\"'gradient' must be callable\")\n",
    "    \n",
    "    #on paramettre  le type des donnees le les tableaux numpy\n",
    "    dtype_ = np.dtype(dtype)\n",
    "    \n",
    "    #On convertit x et y en des tableaux numpy\n",
    "    \n",
    "    x, y = np.array(x, dtype=dtype_), np.array(y, dtype=dtype_)\n",
    "    if x.shape[0] != y.shape[0]:\n",
    "        raise ValueError(\"'x' and 'y' lengths do not match\")\n",
    "    \n",
    "    #initialisation de la valeur de x0\n",
    "\n",
    "    vector = np.array(start, dtype=dtype_)\n",
    "\n",
    "\n",
    "    # Setting up and checking the learning rate\n",
    "\n",
    "    learn_rate = np.array(learn_rate, dtype=dtype_)\n",
    "\n",
    "    if np.any(learn_rate <= 0):\n",
    "\n",
    "        raise ValueError(\"'learn_rate' must be greater than zero\")\n",
    "\n",
    "\n",
    "    # Setting up and checking the maximal number of iterations\n",
    "\n",
    "    n_iter = int(n_iter)\n",
    "\n",
    "    if n_iter <= 0:\n",
    "\n",
    "        raise ValueError(\"'n_iter' must be greater than zero\")\n",
    "\n",
    "\n",
    "    # Setting up and checking the tolerance\n",
    "\n",
    "    tolerance = np.array(tolerance, dtype=dtype_)\n",
    "\n",
    "    if np.any(tolerance <= 0):\n",
    "\n",
    "        raise ValueError(\"'tolerance' must be greater than zero\")\n",
    "\n",
    "\n",
    "    # Performing the gradient descent loop\n",
    "\n",
    "    for _ in range(n_iter):\n",
    "\n",
    "        # Recalculating the difference\n",
    "\n",
    "        diff = -learn_rate * np.array(gradient(x, y, vector), dtype_)\n",
    "\n",
    "\n",
    "        # Checking if the absolute difference is small enough\n",
    "\n",
    "        if np.all(np.abs(diff) <= tolerance):\n",
    "\n",
    "            break\n",
    "\n",
    "\n",
    "        # Updating the values of the variables\n",
    "\n",
    "        vector += diff\n",
    "\n",
    "\n",
    "    return vector if vector.shape else vector.item()\n",
    "    "
   ]
  },
  {
   "cell_type": "code",
   "execution_count": null,
   "metadata": {},
   "outputs": [],
   "source": []
  },
  {
   "cell_type": "markdown",
   "metadata": {},
   "source": [
    "# descente de gradiant Stokastique"
   ]
  },
  {
   "cell_type": "code",
   "execution_count": 14,
   "metadata": {},
   "outputs": [],
   "source": [
    "def SGD(gradient ,x,y , start , learn_rate = 0.1 ,  batch_size = 1 ,n_iter = 50 , tolerance =1e-06 ,\n",
    "        dtype =\"float64\" , random_state = None ):\n",
    "    \n",
    "    \n",
    "    if not callable(gradient):\n",
    "        raise TypeError(\"'gradient' must be callable\")\n",
    "    \n",
    "# transformation des donnees en un tableau numpy\n",
    "    dtype_ = np.dtype(dtype)\n",
    "    x, y = np.array(x, dtype=dtype_), np.array(y, dtype=dtype_)\n",
    "    \n",
    "    # nombre d'observation pour le SGD\n",
    "    n_obs = x.shape[0]\n",
    "    if y.shape[0] != n_obs :\n",
    "        raise ValueError(\"'x' and 'y' lengths do not match\")\n",
    "    \n",
    "    # convertie les objets de tranche en concaténation le long du second axe\n",
    "    xy = np.c_[x.reshape(n_obs , -1) , y.reshape(n_obs , 1)]\n",
    "    \n",
    "      #initialisation de X0\n",
    "\n",
    "    vector = np.array(start, dtype=dtype_)\n",
    "    \n",
    "    \n",
    "        # Setting up and checking the learning rate\n",
    "\n",
    "    learn_rate = np.array(learn_rate, dtype=dtype_)\n",
    "\n",
    "    if np.any(learn_rate <= 0):\n",
    "\n",
    "        raise ValueError(\"'learn_rate' must be greater than zero\")\n",
    "    \n",
    "    batch_size = int(batch_size)\n",
    "    \n",
    "    if not 0 < batch_size <= n_obs:\n",
    "\n",
    "        raise ValueError(\n",
    "\n",
    "            \"'batch_size' must be greater than zero and less than \"\n",
    "\n",
    "            \"or equal to the number of observations\"\n",
    "\n",
    "        )\n",
    "    \n",
    "    # controle du nombre maximun d'iterations\n",
    "\n",
    "    n_iter = int(n_iter)\n",
    "\n",
    "    if n_iter <= 0:\n",
    "\n",
    "        raise ValueError(\"'n_iter' must be greater than zero\")\n",
    "    \n",
    "    # controle de la precision\n",
    "\n",
    "    tolerance = np.array(tolerance, dtype=dtype_)\n",
    "\n",
    "    if np.any(tolerance <= 0):\n",
    "\n",
    "        raise ValueError(\"'tolerance' must be greater than zero\")\n",
    "    \n",
    "    #shuffle permet de faire de l'aleatoire . Modifier un tableau de ou une sequence  sur place en mélangeant\n",
    "    # son contenu  . l ordre des sous tableau est modifié mais le contenu reste le meme\n",
    "    \n",
    "    for _ in range(n_iter):\n",
    "        \n",
    "        rng.shuffle(xy)\n",
    "        \n",
    "        #on performe le deplacement des minibatch\n",
    "        for start in range(0 , n_obs , batch_size):\n",
    "            stop = start + batch_size\n",
    "            x_batch , y_batch = xy[start:stop, :-1], xy[start:stop, -1:]\n",
    "            grad = np.array(gradiant(x_batch ,y_batch , vector) , dtype_)\n",
    "            diff = decay_rate * diff - learn_rate * grad\n",
    "            \n",
    "            # Checking if the absolute difference is small enough\n",
    "\n",
    "            if np.all(np.abs(diff) <= tolerance):\n",
    "\n",
    "                break\n",
    "\n",
    "\n",
    "            # Updating the values of the variables\n",
    "\n",
    "            vector += diff\n",
    "        \n",
    "    return vector if vector.shape else vector.item()"
   ]
  },
  {
   "cell_type": "code",
   "execution_count": 15,
   "metadata": {},
   "outputs": [],
   "source": [
    "import numpy as np\n",
    "\n",
    "\n",
    "def sgd(\n",
    "\n",
    "    gradient, x, y, n_vars=None, start=None, learn_rate=0.1,\n",
    "\n",
    "    decay_rate=0.0, batch_size=1, n_iter=50, tolerance=1e-06,\n",
    "\n",
    "    dtype=\"float64\", random_state=None\n",
    "\n",
    "):\n",
    "\n",
    "    # Checking if the gradient is callable\n",
    "\n",
    "    if not callable(gradient):\n",
    "\n",
    "        raise TypeError(\"'gradient' must be callable\")\n",
    "\n",
    "\n",
    "    # Setting up the data type for NumPy arrays\n",
    "\n",
    "    dtype_ = np.dtype(dtype)\n",
    "\n",
    "\n",
    "    # Converting x and y to NumPy arrays\n",
    "\n",
    "    x, y = np.array(x, dtype=dtype_), np.array(y, dtype=dtype_)\n",
    "\n",
    "    n_obs = x.shape[0]\n",
    "\n",
    "    if n_obs != y.shape[0]:\n",
    "\n",
    "        raise ValueError(\"'x' and 'y' lengths do not match\")\n",
    "\n",
    "    xy = np.c_[x.reshape(n_obs, -1), y.reshape(n_obs, 1)]\n",
    "\n",
    "\n",
    "    # Initializing the random number generator\n",
    "\n",
    "    seed = None if random_state is None else int(random_state)\n",
    "\n",
    "    rng = np.random.default_rng(seed=seed)\n",
    "\n",
    "\n",
    "    # Initializing the values of the variables\n",
    "\n",
    "    vector = (\n",
    "\n",
    "        rng.normal(size=int(n_vars)).astype(dtype_)\n",
    "\n",
    "        if start is None else\n",
    "\n",
    "        np.array(start, dtype=dtype_)\n",
    "\n",
    "    )\n",
    "\n",
    "\n",
    "    # Setting up and checking the learning rate\n",
    "\n",
    "    learn_rate = np.array(learn_rate, dtype=dtype_)\n",
    "\n",
    "    if np.any(learn_rate <= 0):\n",
    "\n",
    "        raise ValueError(\"'learn_rate' must be greater than zero\")\n",
    "\n",
    "\n",
    "    # Setting up and checking the decay rate\n",
    "\n",
    "    decay_rate = np.array(decay_rate, dtype=dtype_)\n",
    "\n",
    "    if np.any(decay_rate < 0) or np.any(decay_rate > 1):\n",
    "\n",
    "        raise ValueError(\"'decay_rate' must be between zero and one\")\n",
    "\n",
    "\n",
    "    # Setting up and checking the size of minibatches\n",
    "\n",
    "    batch_size = int(batch_size)\n",
    "\n",
    "    if not 0 < batch_size <= n_obs:\n",
    "\n",
    "        raise ValueError(\n",
    "\n",
    "            \"'batch_size' must be greater than zero and less than \"\n",
    "\n",
    "            \"or equal to the number of observations\"\n",
    "\n",
    "        )\n",
    "\n",
    "\n",
    "    # Setting up and checking the maximal number of iterations\n",
    "\n",
    "    n_iter = int(n_iter)\n",
    "\n",
    "    if n_iter <= 0:\n",
    "\n",
    "        raise ValueError(\"'n_iter' must be greater than zero\")\n",
    "\n",
    "\n",
    "    # Setting up and checking the tolerance\n",
    "\n",
    "    tolerance = np.array(tolerance, dtype=dtype_)\n",
    "\n",
    "    if np.any(tolerance <= 0):\n",
    "\n",
    "        raise ValueError(\"'tolerance' must be greater than zero\")\n",
    "\n",
    "\n",
    "    # Setting the difference to zero for the first iteration\n",
    "\n",
    "    diff = 0\n",
    "\n",
    "\n",
    "    # Performing the gradient descent loop\n",
    "\n",
    "    for _ in range(n_iter):\n",
    "\n",
    "        # Shuffle x and y\n",
    "\n",
    "        rng.shuffle(xy)\n",
    "\n",
    "\n",
    "        # Performing minibatch moves\n",
    "\n",
    "        for start in range(0, n_obs, batch_size):\n",
    "\n",
    "            stop = start + batch_size\n",
    "\n",
    "            x_batch, y_batch = xy[start:stop, :-1], xy[start:stop, -1:]\n",
    "\n",
    "\n",
    "            # Recalculating the difference\n",
    "\n",
    "            grad = np.array(gradient(x_batch, y_batch, vector), dtype_)\n",
    "\n",
    "            diff = decay_rate * diff - learn_rate * grad\n",
    "\n",
    "\n",
    "            # Checking if the absolute difference is small enough\n",
    "\n",
    "            if np.all(np.abs(diff) <= tolerance):\n",
    "\n",
    "                break\n",
    "\n",
    "\n",
    "            # Updating the values of the variables\n",
    "\n",
    "            vector += diff\n",
    "\n",
    "\n",
    "    return vector if vector.shape else vector.item()\n"
   ]
  },
  {
   "cell_type": "code",
   "execution_count": 16,
   "metadata": {},
   "outputs": [
    {
     "data": {
      "text/plain": [
       "array([5.63014443, 0.53901017])"
      ]
     },
     "execution_count": 16,
     "metadata": {},
     "output_type": "execute_result"
    }
   ],
   "source": [
    "sgd(\n",
    "     ssr_gradient, x, y, n_vars=2, learn_rate=0.0001,\n",
    "     decay_rate=0.8, batch_size=3, n_iter=100_000, random_state=0\n",
    " )"
   ]
  },
  {
   "cell_type": "code",
   "execution_count": null,
   "metadata": {},
   "outputs": [],
   "source": []
  },
  {
   "cell_type": "code",
   "execution_count": null,
   "metadata": {},
   "outputs": [],
   "source": []
  },
  {
   "cell_type": "code",
   "execution_count": null,
   "metadata": {},
   "outputs": [],
   "source": []
  }
 ],
 "metadata": {
  "kernelspec": {
   "display_name": "Python 3 (ipykernel)",
   "language": "python",
   "name": "python3"
  },
  "language_info": {
   "codemirror_mode": {
    "name": "ipython",
    "version": 3
   },
   "file_extension": ".py",
   "mimetype": "text/x-python",
   "name": "python",
   "nbconvert_exporter": "python",
   "pygments_lexer": "ipython3",
   "version": "3.8.5"
  }
 },
 "nbformat": 4,
 "nbformat_minor": 4
}
