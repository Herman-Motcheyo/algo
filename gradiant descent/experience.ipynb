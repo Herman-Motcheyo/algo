{
 "cells": [
  {
   "cell_type": "code",
   "execution_count": 44,
   "metadata": {},
   "outputs": [],
   "source": [
    "from plotnine import ggplot, aes, geom_bar\n",
    "import numpy as np\n",
    "import pandas as pd\n",
    "import matplotlib.pyplot as plt"
   ]
  },
  {
   "cell_type": "code",
   "execution_count": null,
   "metadata": {},
   "outputs": [],
   "source": []
  },
  {
   "cell_type": "code",
   "execution_count": 41,
   "metadata": {},
   "outputs": [],
   "source": [
    "def fun(x):\n",
    "    return x**2 \n",
    "\n",
    "def grad(x):\n",
    "    return 2*x"
   ]
  },
  {
   "cell_type": "code",
   "execution_count": 48,
   "metadata": {},
   "outputs": [
    {
     "data": {
      "text/plain": [
       "[<matplotlib.lines.Line2D at 0x7f66c4962490>]"
      ]
     },
     "execution_count": 48,
     "metadata": {},
     "output_type": "execute_result"
    },
    {
     "data": {
      "image/png": "[encoded data removed]",
      "text/plain": [
       "<Figure size 432x288 with 1 Axes>"
      ]
     },
     "metadata": {
      "needs_background": "light"
     },
     "output_type": "display_data"
    }
   ],
   "source": [
    "def descente_gradient(grad ,f, Xo , epscelon):\n",
    "    Xk = Xo\n",
    "    k=1\n",
    "    x = []\n",
    "    while(k < 10000):\n",
    "        x.append(Xk)\n",
    "        Xk = Xk -epscelon*grad(Xk)\n",
    "        k +=1\n",
    "    return x\n",
    "\n",
    "plt.plot(np.array( np.array(descente_gradient(grad  , f , 1 , 10e-4))) ,  fun(np.array(descente_gradient(grad  , f , 1 , 10e-4))))"
   ]
  },
  {
   "cell_type": "code",
   "execution_count": 39,
   "metadata": {},
   "outputs": [
    {
     "ename": "SyntaxError",
     "evalue": "positional argument follows keyword argument (3216416290.py, line 8)",
     "output_type": "error",
     "traceback": [
      "\u001b[0;36m  File \u001b[0;32m\"/tmp/ipykernel_7101/3216416290.py\"\u001b[0;36m, line \u001b[0;32m8\u001b[0m\n\u001b[0;31m    geom_point(data = data_points, aes(x = x, y = y), col = \"red\") +theme_minimal() + theme(\u001b[0m\n\u001b[0m                                   ^\u001b[0m\n\u001b[0;31mSyntaxError\u001b[0m\u001b[0;31m:\u001b[0m positional argument follows keyword argument\n"
     ]
    }
   ],
   "source": [
    "# create data frame\n",
    "data_points <- pd.DataFrame(x =np.array( points), y = fun(np.array(descente_gradient(grad  , f , 1 , 10e-4))))\n",
    "\n",
    "# plot objective function with all x\n",
    "small_step_length <- ggplot(pd.DataFrame(x = [-5, 5]), aes(x)) +\\\n",
    "stat_function(fun = fun) +\\\n",
    "geom_line(data = data_points, aes(x = x, y = y), col = \"blue\") +\\\n",
    "  geom_point(data = data_points, aes(x = x, y = y), col = \"red\") +theme_minimal() + theme(\n",
    "    axis.text = element_text(size = 12),\n",
    "    axis.title = element_text(size = 15),\n",
    "    plot.title = element_text(hjust = 0.5, size = 18)\n",
    "  ) +ylab(expression(x^2)) +ggtitle(bquote(atop(\"Gradient Descent for\" , \"With Step Length 0.05 and k = 111\")))\n"
   ]
  },
  {
   "cell_type": "code",
   "execution_count": 29,
   "metadata": {},
   "outputs": [
    {
     "name": "stdout",
     "output_type": "stream",
     "text": [
      "Object `DataFrame` not found.\n"
     ]
    }
   ],
   "source": [
    "?DataFrame"
   ]
  }
 ],
 "metadata": {
  "kernelspec": {
   "display_name": "Python 3 (ipykernel)",
   "language": "python",
   "name": "python3"
  },
  "language_info": {
   "codemirror_mode": {
    "name": "ipython",
    "version": 3
   },
   "file_extension": ".py",
   "mimetype": "text/x-python",
   "name": "python",
   "nbconvert_exporter": "python",
   "pygments_lexer": "ipython3",
   "version": "3.8.5"
  }
 },
 "nbformat": 4,
 "nbformat_minor": 4
}
