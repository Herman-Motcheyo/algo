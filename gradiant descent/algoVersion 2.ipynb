{
 "cells": [
  {
   "cell_type": "markdown",
   "metadata": {},
   "source": [
    "# Tp OPtimisation  "
   ]
  },
  {
   "cell_type": "code",
   "execution_count": 2,
   "metadata": {},
   "outputs": [],
   "source": [
    "import numpy as np\n",
    "import math\n",
    "import matplotlib.pyplot as plt"
   ]
  },
  {
   "cell_type": "code",
   "execution_count": 3,
   "metadata": {},
   "outputs": [],
   "source": [
    "# Definition de la fonction principale \n",
    "\n",
    "def f(p):\n",
    "    return 1/2*math.pow(p[0] , 2) + 7/2* math.pow(p[1],2) "
   ]
  },
  {
   "cell_type": "code",
   "execution_count": null,
   "metadata": {},
   "outputs": [],
   "source": []
  },
  {
   "cell_type": "code",
   "execution_count": 4,
   "metadata": {},
   "outputs": [],
   "source": [
    "# gradiant de f\n",
    "\n",
    "def grad_f(p):\n",
    "    return np.array([p[0] ,7*p[1]])"
   ]
  },
  {
   "cell_type": "code",
   "execution_count": null,
   "metadata": {},
   "outputs": [],
   "source": []
  },
  {
   "cell_type": "code",
   "execution_count": 5,
   "metadata": {},
   "outputs": [],
   "source": [
    "def norme(v):\n",
    "    return math.sqrt(pow(v[0] , 2) + math.pow(v[1],2))\n"
   ]
  },
  {
   "cell_type": "code",
   "execution_count": null,
   "metadata": {},
   "outputs": [],
   "source": []
  },
  {
   "cell_type": "code",
   "execution_count": 6,
   "metadata": {},
   "outputs": [],
   "source": [
    "def produit_scalaire(vect1 , vect2):\n",
    "    s = 0\n",
    "    if(len(vect1) != len(vect2)):\n",
    "        return \"imposible\"\n",
    "    else:\n",
    "        for i in range(len(vect1)):\n",
    "            s = s + vect1[i]*vect2[i]\n",
    "        return s"
   ]
  },
  {
   "cell_type": "code",
   "execution_count": null,
   "metadata": {},
   "outputs": [],
   "source": []
  },
  {
   "cell_type": "code",
   "execution_count": 7,
   "metadata": {},
   "outputs": [],
   "source": [
    "# pour calculer la norme d'un vecteur\n",
    "def normeg(vect):\n",
    "    s = 0\n",
    "    for i in range(len(vect)):\n",
    "        s = s+ math.pow(vect[i] , 2)\n",
    "    return math.sqrt(s)"
   ]
  },
  {
   "cell_type": "code",
   "execution_count": null,
   "metadata": {},
   "outputs": [],
   "source": []
  },
  {
   "cell_type": "markdown",
   "metadata": {},
   "source": [
    "## Algorthime de Descente 1"
   ]
  },
  {
   "cell_type": "code",
   "execution_count": null,
   "metadata": {},
   "outputs": [],
   "source": []
  },
  {
   "cell_type": "code",
   "execution_count": 8,
   "metadata": {},
   "outputs": [],
   "source": [
    "# second critere d'optimalité Stagnation de la solution courante\n",
    "\n",
    "def stagnation_valeur_courante(xk_1 , xk):\n",
    "    return norme(xk_1 - xk)"
   ]
  },
  {
   "cell_type": "markdown",
   "metadata": {},
   "source": [
    "## Descente à pas fixe respectant le critère d'optimalité"
   ]
  },
  {
   "cell_type": "code",
   "execution_count": 16,
   "metadata": {},
   "outputs": [],
   "source": [
    "# x0 point de ou commence l'algorithme\n",
    "# s represente le pas\n",
    "# e represente la precision\n",
    "def descente_a_pas_fixe( e , x0, s):\n",
    "    k=0\n",
    "    xk = x0\n",
    "    data =[]\n",
    "    try:\n",
    "        while( norme(grad_f(xk)) >  e):\n",
    "            dk = -grad_f(xk)\n",
    "            xk = xk + s* dk\n",
    "            k = k+1\n",
    "            data.append([k , xk])\n",
    "    except:\n",
    "        return \"Dv\"\n",
    "        \n",
    "    return data\n"
   ]
  },
  {
   "cell_type": "code",
   "execution_count": 17,
   "metadata": {},
   "outputs": [
    {
     "data": {
      "text/plain": [
       "[[1, array([6.125 , 0.1875])],\n",
       " [2, array([5.359375 , 0.0234375])],\n",
       " [3, array([4.68945312e+00, 2.92968750e-03])],\n",
       " [4, array([4.10327148e+00, 3.66210938e-04])],\n",
       " [5, array([3.59036255e+00, 4.57763672e-05])],\n",
       " [6, array([3.14156723e+00, 5.72204590e-06])],\n",
       " [7, array([2.74887133e+00, 7.15255737e-07])],\n",
       " [8, array([2.40526241e+00, 8.94069672e-08])],\n",
       " [9, array([2.10460461e+00, 1.11758709e-08])],\n",
       " [10, array([1.84152903e+00, 1.39698386e-09])],\n",
       " [11, array([1.61133790e+00, 1.74622983e-10])],\n",
       " [12, array([1.40992067e+00, 2.18278728e-11])],\n",
       " [13, array([1.23368058e+00, 2.72848411e-12])],\n",
       " [14, array([1.07947051e+00, 3.41060513e-13])],\n",
       " [15, array([9.44536696e-01, 4.26325641e-14])],\n",
       " [16, array([8.26469609e-01, 5.32907052e-15])],\n",
       " [17, array([7.23160908e-01, 6.66133815e-16])],\n",
       " [18, array([6.32765795e-01, 8.32667268e-17])],\n",
       " [19, array([5.53670070e-01, 1.04083409e-17])],\n",
       " [20, array([4.84461311e-01, 1.30104261e-18])],\n",
       " [21, array([4.23903647e-01, 1.62630326e-19])],\n",
       " [22, array([3.70915692e-01, 2.03287907e-20])],\n",
       " [23, array([3.24551230e-01, 2.54109884e-21])],\n",
       " [24, array([2.83982326e-01, 3.17637355e-22])],\n",
       " [25, array([2.48484536e-01, 3.97046694e-23])],\n",
       " [26, array([2.17423969e-01, 4.96308368e-24])],\n",
       " [27, array([1.90245973e-01, 6.20385459e-25])],\n",
       " [28, array([1.66465226e-01, 7.75481824e-26])],\n",
       " [29, array([1.45657073e-01, 9.69352280e-27])],\n",
       " [30, array([1.27449939e-01, 1.21169035e-27])],\n",
       " [31, array([1.11518696e-01, 1.51461294e-28])],\n",
       " [32, array([9.75788593e-02, 1.89326617e-29])],\n",
       " [33, array([8.53815019e-02, 2.36658272e-30])],\n",
       " [34, array([7.47088141e-02, 2.95822839e-31])],\n",
       " [35, array([6.53702124e-02, 3.69778549e-32])],\n",
       " [36, array([5.71989358e-02, 4.62223187e-33])],\n",
       " [37, array([5.00490688e-02, 5.77778983e-34])],\n",
       " [38, array([4.37929352e-02, 7.22223729e-35])],\n",
       " [39, array([3.83188183e-02, 9.02779661e-36])],\n",
       " [40, array([3.35289660e-02, 1.12847458e-36])],\n",
       " [41, array([2.93378453e-02, 1.41059322e-37])],\n",
       " [42, array([2.56706146e-02, 1.76324153e-38])],\n",
       " [43, array([2.24617878e-02, 2.20405191e-39])],\n",
       " [44, array([1.96540643e-02, 2.75506488e-40])],\n",
       " [45, array([1.71973063e-02, 3.44383111e-41])],\n",
       " [46, array([1.50476430e-02, 4.30478888e-42])],\n",
       " [47, array([1.31666876e-02, 5.38098610e-43])],\n",
       " [48, array([1.15208517e-02, 6.72623263e-44])],\n",
       " [49, array([1.00807452e-02, 8.40779079e-45])],\n",
       " [50, array([8.82065206e-03, 1.05097385e-45])],\n",
       " [51, array([7.71807055e-03, 1.31371731e-46])],\n",
       " [52, array([6.75331173e-03, 1.64214664e-47])],\n",
       " [53, array([5.90914777e-03, 2.05268330e-48])],\n",
       " [54, array([5.17050429e-03, 2.56585412e-49])],\n",
       " [55, array([4.52419126e-03, 3.20731765e-50])],\n",
       " [56, array([3.95866735e-03, 4.00914707e-51])],\n",
       " [57, array([3.46383393e-03, 5.01143383e-52])],\n",
       " [58, array([3.03085469e-03, 6.26429229e-53])],\n",
       " [59, array([2.65199785e-03, 7.83036536e-54])],\n",
       " [60, array([2.32049812e-03, 9.78795670e-55])],\n",
       " [61, array([2.03043586e-03, 1.22349459e-55])],\n",
       " [62, array([1.77663137e-03, 1.52936823e-56])],\n",
       " [63, array([1.55455245e-03, 1.91171029e-57])],\n",
       " [64, array([1.36023340e-03, 2.38963787e-58])],\n",
       " [65, array([1.19020422e-03, 2.98704733e-59])],\n",
       " [66, array([1.04142869e-03, 3.73380917e-60])],\n",
       " [67, array([9.11250107e-04, 4.66726146e-61])],\n",
       " [68, array([7.97343844e-04, 5.83407682e-62])],\n",
       " [69, array([6.97675863e-04, 7.29259603e-63])],\n",
       " [70, array([6.10466381e-04, 9.11574504e-64])],\n",
       " [71, array([5.34158083e-04, 1.13946813e-64])],\n",
       " [72, array([4.67388323e-04, 1.42433516e-65])],\n",
       " [73, array([4.08964782e-04, 1.78041895e-66])],\n",
       " [74, array([3.57844184e-04, 2.22552369e-67])],\n",
       " [75, array([3.13113661e-04, 2.78190461e-68])],\n",
       " [76, array([2.73974454e-04, 3.47738077e-69])],\n",
       " [77, array([2.39727647e-04, 4.34672596e-70])],\n",
       " [78, array([2.09761691e-04, 5.43340745e-71])],\n",
       " [79, array([1.83541480e-04, 6.79175931e-72])],\n",
       " [80, array([1.60598795e-04, 8.48969914e-73])],\n",
       " [81, array([1.40523945e-04, 1.06121239e-73])],\n",
       " [82, array([1.22958452e-04, 1.32651549e-74])],\n",
       " [83, array([1.07588646e-04, 1.65814436e-75])],\n",
       " [84, array([9.41400650e-05, 2.07268045e-76])]]"
      ]
     },
     "execution_count": 17,
     "metadata": {},
     "output_type": "execute_result"
    }
   ],
   "source": [
    "descente_a_pas_fixe(10e-5 , [7,1.5] , 0.125)"
   ]
  },
  {
   "cell_type": "code",
   "execution_count": null,
   "metadata": {},
   "outputs": [],
   "source": []
  },
  {
   "cell_type": "code",
   "execution_count": null,
   "metadata": {},
   "outputs": [],
   "source": []
  },
  {
   "cell_type": "markdown",
   "metadata": {},
   "source": [
    "### Tableau de test pas le pas fixe  \n",
    "### pasTest = [0.25,0.125 , 0.05 , 0.01]\n"
   ]
  },
  {
   "cell_type": "code",
   "execution_count": 14,
   "metadata": {},
   "outputs": [],
   "source": [
    "pasTest = [0.25,0.125 , 0.05 , 0.01]"
   ]
  },
  {
   "cell_type": "code",
   "execution_count": 15,
   "metadata": {},
   "outputs": [
    {
     "ename": "TypeError",
     "evalue": "descente_a_pas_fixe() missing 1 required positional argument: 's'",
     "output_type": "error",
     "traceback": [
      "\u001b[0;31m---------------------------------------------------------------------------\u001b[0m",
      "\u001b[0;31mTypeError\u001b[0m                                 Traceback (most recent call last)",
      "\u001b[0;32m/tmp/ipykernel_78201/3889191867.py\u001b[0m in \u001b[0;36m<module>\u001b[0;34m\u001b[0m\n\u001b[1;32m      1\u001b[0m \u001b[0mresultat\u001b[0m\u001b[0;34m=\u001b[0m \u001b[0;34m[\u001b[0m\u001b[0;34m]\u001b[0m\u001b[0;34m\u001b[0m\u001b[0;34m\u001b[0m\u001b[0m\n\u001b[1;32m      2\u001b[0m \u001b[0;32mfor\u001b[0m \u001b[0mi\u001b[0m \u001b[0;32min\u001b[0m \u001b[0mrange\u001b[0m\u001b[0;34m(\u001b[0m\u001b[0mlen\u001b[0m\u001b[0;34m(\u001b[0m\u001b[0mpasTest\u001b[0m\u001b[0;34m)\u001b[0m\u001b[0;34m)\u001b[0m\u001b[0;34m:\u001b[0m\u001b[0;34m\u001b[0m\u001b[0;34m\u001b[0m\u001b[0m\n\u001b[0;32m----> 3\u001b[0;31m     \u001b[0mresultat\u001b[0m\u001b[0;34m.\u001b[0m\u001b[0mappend\u001b[0m\u001b[0;34m(\u001b[0m\u001b[0mdescente_a_pas_fixe\u001b[0m\u001b[0;34m(\u001b[0m\u001b[0;36m10e-5\u001b[0m \u001b[0;34m,\u001b[0m \u001b[0mnp\u001b[0m\u001b[0;34m.\u001b[0m\u001b[0marray\u001b[0m\u001b[0;34m(\u001b[0m\u001b[0;34m[\u001b[0m\u001b[0;36m7\u001b[0m\u001b[0;34m,\u001b[0m\u001b[0;36m1.5\u001b[0m\u001b[0;34m]\u001b[0m \u001b[0;34m)\u001b[0m\u001b[0;34m,\u001b[0m\u001b[0mpasTest\u001b[0m\u001b[0;34m[\u001b[0m\u001b[0mi\u001b[0m\u001b[0;34m]\u001b[0m\u001b[0;34m)\u001b[0m\u001b[0;34m)\u001b[0m\u001b[0;34m\u001b[0m\u001b[0;34m\u001b[0m\u001b[0m\n\u001b[0m\u001b[1;32m      4\u001b[0m \u001b[0;34m\u001b[0m\u001b[0m\n",
      "\u001b[0;31mTypeError\u001b[0m: descente_a_pas_fixe() missing 1 required positional argument: 's'"
     ]
    }
   ],
   "source": [
    "resultat= []\n",
    "for i in range(len(pasTest)):\n",
    "    resultat.append(descente_a_pas_fixe(10e-5 , np.array([7,1.5] ),pasTest[i]))\n",
    "    "
   ]
  },
  {
   "cell_type": "code",
   "execution_count": 52,
   "metadata": {},
   "outputs": [],
   "source": [
    "def dataplot(datap):\n",
    "    x=[]\n",
    "    y=[]\n",
    "    fig ,ax = plt.subplots()\n",
    "    ax.set_prop_cycle(color=['red','green','blue','yellow'])\n",
    "    for j in range(len(datap)):\n",
    "        for i in range(len(datap[j]) ):\n",
    "            x.append(datap[j][i][1][0])\n",
    "            y.append(datap[j][i][1][1])\n",
    "        plt.rcParams[\"figure.figsize\"] = (20,20)\n",
    "        ax.set_title('Itérations de l ago de gradient à pas fixe  générées à partir du point [7,1.5]',\n",
    "        fontsize = 14)\n",
    "        plt.plot(x,y ,label = \"itermanfbjkfbgfkjbg\")\n",
    "    plt.show()"
   ]
  },
  {
   "cell_type": "code",
   "execution_count": null,
   "metadata": {},
   "outputs": [],
   "source": []
  },
  {
   "cell_type": "code",
   "execution_count": 53,
   "metadata": {},
   "outputs": [
    {
     "data": {
      "image/png": "[encoded data removed]",
      "text/plain": [
       "<Figure size 1440x1440 with 1 Axes>"
      ]
     },
     "metadata": {
      "needs_background": "light"
     },
     "output_type": "display_data"
    }
   ],
   "source": [
    "dataplot(resultat)"
   ]
  },
  {
   "cell_type": "code",
   "execution_count": null,
   "metadata": {},
   "outputs": [],
   "source": []
  },
  {
   "cell_type": "code",
   "execution_count": null,
   "metadata": {},
   "outputs": [],
   "source": [
    "# "
   ]
  },
  {
   "cell_type": "code",
   "execution_count": null,
   "metadata": {},
   "outputs": [],
   "source": []
  },
  {
   "cell_type": "code",
   "execution_count": 54,
   "metadata": {},
   "outputs": [
    {
     "name": "stdout",
     "output_type": "stream",
     "text": [
      "ok\n"
     ]
    }
   ],
   "source": [
    "datap= descente_a_pas_fixe(10e-5 , np.array([7,1.5] ),0.01)\n",
    "x=[]\n",
    "y=[]\n",
    "for i in range(len(datap) ):\n",
    "    x.append(datap[i][1][0])\n",
    "    y.append(datap[i][1][1])\n",
    "\n",
    "#datap[1][1][0]\n",
    "plt.rcParams[\"figure.figsize\"] = (20,20)\n",
    "\n",
    "#plt.plot(x,y , color =\"blue\")\n",
    "#plt.show()\n",
    "print(\"ok\")"
   ]
  },
  {
   "cell_type": "markdown",
   "metadata": {},
   "source": [
    "## Descente à pas Optimal respectant le critère d'optimalité"
   ]
  },
  {
   "cell_type": "code",
   "execution_count": null,
   "metadata": {},
   "outputs": [],
   "source": []
  },
  {
   "cell_type": "code",
   "execution_count": 55,
   "metadata": {},
   "outputs": [],
   "source": [
    "#pas Optimal solution du probleme Minf(xk+s*dk) avec s positif\n",
    "\n",
    "def s(x):\n",
    "    return (pow(x[0],2) + pow(7,2)*pow(x[1] , 2)) /(pow(x[0],2) + pow(7,3)*pow(x[1] , 2))"
   ]
  },
  {
   "cell_type": "code",
   "execution_count": null,
   "metadata": {},
   "outputs": [],
   "source": [
    "# e : precision \n",
    "#x0 : point de départ\n",
    "\n",
    "def descentePasOptimal(e , x0):\n",
    "    xk = x0\n",
    "    k=0\n",
    "    data = []\n",
    "    #norme(grad_f(x0))<=e\n",
    "    while(norme(grad_f(xk)) > e):\n",
    "        dk = -grad_f(xk)\n",
    "        xk = xk + s(xk)*dk\n",
    "        k = k+1\n",
    "        data.append([k,xk])\n",
    "    return data"
   ]
  },
  {
   "cell_type": "code",
   "execution_count": null,
   "metadata": {},
   "outputs": [],
   "source": [
    "\n",
    "descentePasOptimal(10e-10 ,[7,1.5])"
   ]
  },
  {
   "cell_type": "code",
   "execution_count": null,
   "metadata": {},
   "outputs": [],
   "source": []
  },
  {
   "cell_type": "markdown",
   "metadata": {},
   "source": [
    "# Algroiithme 2 Amidjo et wolfe"
   ]
  },
  {
   "cell_type": "markdown",
   "metadata": {},
   "source": [
    "#### f(x+s*d)  <= f(x) +ep1*d(grad(f(x))T*d)\n",
    "#### soit fi(s) <= fi(0) + ep1*d*fi'(O)"
   ]
  },
  {
   "cell_type": "code",
   "execution_count": null,
   "metadata": {},
   "outputs": [],
   "source": []
  },
  {
   "cell_type": "code",
   "execution_count": null,
   "metadata": {},
   "outputs": [],
   "source": []
  },
  {
   "cell_type": "code",
   "execution_count": 56,
   "metadata": {},
   "outputs": [
    {
     "data": {
      "text/plain": [
       "55.34375"
      ]
     },
     "execution_count": 56,
     "metadata": {},
     "output_type": "execute_result"
    }
   ],
   "source": [
    "f(np.array([7,1.5]) + 0.5* np.array([-7, -10.5]) )\n"
   ]
  },
  {
   "cell_type": "code",
   "execution_count": null,
   "metadata": {},
   "outputs": [],
   "source": []
  },
  {
   "cell_type": "code",
   "execution_count": null,
   "metadata": {},
   "outputs": [],
   "source": []
  },
  {
   "cell_type": "code",
   "execution_count": 59,
   "metadata": {},
   "outputs": [
    {
     "data": {
      "text/plain": [
       "32.35509375"
      ]
     },
     "execution_count": 59,
     "metadata": {},
     "output_type": "execute_result"
    }
   ],
   "source": [
    "f(np.array([7,1.5]) )+0.125*10e-4* produit_scalaire(grad_f(np.array([7,1.5])) , np.array([-7, -10.5])) "
   ]
  },
  {
   "cell_type": "code",
   "execution_count": 60,
   "metadata": {},
   "outputs": [],
   "source": [
    "def premiere_condition_de_wolfe(x ,s, dk , ep1 ):\n",
    "    if f(x +s*dk )  <= f(x) + ep1*s* produit_scalaire(grad_f(x) ,dk) :\n",
    "        return True\n",
    "    else:\n",
    "        return False"
   ]
  },
  {
   "cell_type": "code",
   "execution_count": 61,
   "metadata": {},
   "outputs": [
    {
     "data": {
      "text/plain": [
       "False"
      ]
     },
     "execution_count": 61,
     "metadata": {},
     "output_type": "execute_result"
    }
   ],
   "source": [
    "premiere_condition_de_wolfe(np.array([8,0]) , 1 ,np.array([1,0]),0.0)"
   ]
  },
  {
   "cell_type": "code",
   "execution_count": 66,
   "metadata": {},
   "outputs": [],
   "source": [
    "def deuxieme_condition_de_wolfe(x,s,dk , ep2):\n",
    "    if produit_scalaire( grad_f(x + s*dk) , dk)    < ep2 * produit_scalaire(grad_f(x), dk):\n",
    "        return False\n",
    "    else:\n",
    "        True"
   ]
  },
  {
   "cell_type": "code",
   "execution_count": null,
   "metadata": {},
   "outputs": [],
   "source": [
    "deuxieme_condition_de_wolfe(np.array([8,19]) , 0.1 ,np.array([1,1]),0.8)"
   ]
  },
  {
   "cell_type": "code",
   "execution_count": null,
   "metadata": {},
   "outputs": [],
   "source": []
  },
  {
   "cell_type": "code",
   "execution_count": null,
   "metadata": {},
   "outputs": [],
   "source": []
  },
  {
   "cell_type": "code",
   "execution_count": null,
   "metadata": {},
   "outputs": [],
   "source": [
    "produit_Scalaire(np.array([1,2]) , np.array([2,3,3]))"
   ]
  },
  {
   "cell_type": "code",
   "execution_count": 63,
   "metadata": {},
   "outputs": [
    {
     "data": {
      "text/plain": [
       "2.23606797749979"
      ]
     },
     "execution_count": 63,
     "metadata": {},
     "output_type": "execute_result"
    }
   ],
   "source": [
    " norme([2,1,4])"
   ]
  },
  {
   "cell_type": "code",
   "execution_count": null,
   "metadata": {},
   "outputs": [],
   "source": []
  },
  {
   "cell_type": "code",
   "execution_count": null,
   "metadata": {},
   "outputs": [],
   "source": []
  },
  {
   "cell_type": "code",
   "execution_count": 64,
   "metadata": {},
   "outputs": [],
   "source": [
    "def recherche_lineaire_de_wolfe(x,ep1 ,ep2 ,s, d ):\n",
    "    s_=0\n",
    "    s_plus = float('inf')\n",
    "    sk = s\n",
    "    infini = float('inf')\n",
    "    k = 0\n",
    "    condition_wolfe = False\n",
    "    while condition_wolfe == False:\n",
    "        if premiere_condition_de_wolfe(x ,sk, d , ep1 ) == False :#pas trop grad\n",
    "            s_plus = sk\n",
    "            sk = (s_plus + s_ )/2\n",
    "            condition_wolfe = False\n",
    "        elif deuxieme_condition_de_wolfe(x,sk,d , ep2)  == False :# pas trop petit\n",
    "            s_ = sk\n",
    "            if s_plus < infini :\n",
    "                sk = (s_plus + s_ )/2\n",
    "            else:\n",
    "                sk = 2*sk\n",
    "        else :\n",
    "            condition_wolfe = True\n",
    "        k = k+1\n",
    "    return sk\n"
   ]
  },
  {
   "cell_type": "code",
   "execution_count": 67,
   "metadata": {},
   "outputs": [
    {
     "data": {
      "text/plain": [
       "0.25"
      ]
     },
     "execution_count": 67,
     "metadata": {},
     "output_type": "execute_result"
    }
   ],
   "source": [
    "recherche_lineaire_de_wolfe(np.array([7,1.5] ), 10e-4 , 0.99 ,8 , np.array([-7,-10.5]))"
   ]
  },
  {
   "cell_type": "code",
   "execution_count": 76,
   "metadata": {},
   "outputs": [],
   "source": [
    "def descente_gradiant_wolfe(e , x0 , ep1 = 10e-4 , ep2  = 0.99 ,s = 1000000) :\n",
    "    xk = x0\n",
    "    k=0\n",
    "    data=[]\n",
    "    #norme(grad_f(x0))<=e\n",
    "    while(norme(grad_f(xk)) > e):\n",
    "        dk = -(grad_f(xk))\n",
    "        sk = recherche_lineaire_de_wolfe(xk,ep1 ,ep2 ,s, dk )\n",
    "        xk = xk + sk* dk\n",
    "        k = k+1\n",
    "        print(k)\n",
    "        data.append([k,xk])\n",
    "    return xk"
   ]
  },
  {
   "cell_type": "code",
   "execution_count": 78,
   "metadata": {},
   "outputs": [
    {
     "name": "stdout",
     "output_type": "stream",
     "text": [
      "1\n",
      "2\n",
      "3\n",
      "4\n",
      "5\n",
      "6\n",
      "7\n",
      "8\n",
      "9\n",
      "10\n",
      "11\n",
      "12\n",
      "13\n",
      "14\n",
      "15\n",
      "16\n",
      "17\n",
      "18\n",
      "19\n",
      "20\n",
      "21\n",
      "22\n",
      "23\n",
      "24\n",
      "25\n",
      "26\n",
      "27\n",
      "28\n",
      "29\n",
      "30\n",
      "31\n",
      "32\n",
      "33\n",
      "34\n",
      "35\n",
      "36\n",
      "37\n",
      "38\n",
      "39\n"
     ]
    },
    {
     "data": {
      "text/plain": [
       "array([ 5.53091490e-05, -9.91407779e-06])"
      ]
     },
     "execution_count": 78,
     "metadata": {},
     "output_type": "execute_result"
    }
   ],
   "source": [
    "descente_gradiant_wolfe(10e-5 , np.array([7, 1.5]) )"
   ]
  },
  {
   "cell_type": "code",
   "execution_count": null,
   "metadata": {},
   "outputs": [],
   "source": []
  },
  {
   "cell_type": "code",
   "execution_count": null,
   "metadata": {},
   "outputs": [],
   "source": []
  },
  {
   "cell_type": "code",
   "execution_count": null,
   "metadata": {},
   "outputs": [],
   "source": []
  },
  {
   "cell_type": "code",
   "execution_count": null,
   "metadata": {},
   "outputs": [],
   "source": []
  },
  {
   "cell_type": "code",
   "execution_count": null,
   "metadata": {},
   "outputs": [],
   "source": []
  },
  {
   "cell_type": "code",
   "execution_count": null,
   "metadata": {},
   "outputs": [],
   "source": []
  },
  {
   "cell_type": "code",
   "execution_count": null,
   "metadata": {},
   "outputs": [],
   "source": []
  },
  {
   "cell_type": "code",
   "execution_count": null,
   "metadata": {},
   "outputs": [],
   "source": []
  }
 ],
 "metadata": {
  "kernelspec": {
   "display_name": "Python 3 (ipykernel)",
   "language": "python",
   "name": "python3"
  },
  "language_info": {
   "codemirror_mode": {
    "name": "ipython",
    "version": 3
   },
   "file_extension": ".py",
   "mimetype": "text/x-python",
   "name": "python",
   "nbconvert_exporter": "python",
   "pygments_lexer": "ipython3",
   "version": "3.8.5"
  }
 },
 "nbformat": 4,
 "nbformat_minor": 4
}
